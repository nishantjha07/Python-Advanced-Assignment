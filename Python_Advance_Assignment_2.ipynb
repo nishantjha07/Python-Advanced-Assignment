{
 "cells": [
  {
   "cell_type": "markdown",
   "metadata": {
    "id": "8ztayaPtVWw4"
   },
   "source": [
    "### Q1. What is the relationship between classes and modules?\n",
    "\n",
    "### Ans1.\n",
    "Modules are collections of methods and constants. They cannot generate instances. Classes may generate instances (objects), and have per-instance state (instance variables)."
   ]
  },
  {
   "cell_type": "markdown",
   "metadata": {
    "id": "7vAj0cTUVWtl"
   },
   "source": [
    "### Q2. How do you make instances and classes?\n",
    "\n",
    "### Ans2. \n",
    "Classes can be cretaed with the help of keyword class. To create instances of a class, we can call the class using class name and pass in whatever arguments its __init__ method accepts."
   ]
  },
  {
   "cell_type": "markdown",
   "metadata": {
    "id": "3alBr_ShVWn_"
   },
   "source": [
    "### Q3. Where and how should be class attributes created?\n",
    "\n",
    "### Ans3.\n",
    "Any variable that is bound in a class is a class attribute. Any function defined within a class is a method. Methods receive an instance of the class, conventionally called self, as the first argument. For example"
   ]
  },
  {
   "cell_type": "code",
   "execution_count": 1,
   "metadata": {
    "id": "MwimE4XgW555"
   },
   "outputs": [],
   "source": [
    "class MyClass:\n",
    "    attr1 = 10        #class attributes\n",
    "    attr2 = \"hello\"\n",
    "\n",
    "    def method1(self):\n",
    "        print( MyClass.attr1)   #reference the class attribute\n",
    "\n",
    "    def method2(self):\n",
    "        print( MyClass.attr2)   #reference the class attribute\n",
    "\n",
    "    def method3(self, text):\n",
    "        self.text = text        #instance attribute\n",
    "        print( text, self.text)   #print my argument and my attribute\n",
    "\n",
    "    method4 = method3   #make an alias for method3"
   ]
  },
  {
   "cell_type": "markdown",
   "metadata": {
    "id": "GgfF78qiVWl9"
   },
   "source": [
    "### Q4. Where and how are instance attributes created?\n",
    "\n",
    "### Ans4. \n",
    "Instance attributes are attributes or properties attached to an instance of a class. Instance attributes are defined in the constructor."
   ]
  },
  {
   "cell_type": "markdown",
   "metadata": {
    "id": "NIPYj0E0VWj9"
   },
   "source": [
    "### Q5. What does the term &quot;self&quot; in a Python class mean?\n",
    "\n",
    "### Ans5. \n",
    "self represents the instance of the class. By using the “self” keyword we can access the attributes and methods of the class in python. It binds the attributes with the given arguments."
   ]
  },
  {
   "cell_type": "markdown",
   "metadata": {
    "id": "l-m7aoupVWiT"
   },
   "source": [
    "### Q6. How does a Python class handle operator overloading?\n",
    "\n",
    "### Ans6. \n",
    "The operator overloading in Python means provide extended meaning beyond their predefined operational meaning. Such as, we use the \"+\" operator for adding two integers as well as joining two strings or merging two lists. We can achieve this as the \"+\" operator is overloaded by the \"int\" class and \"str\" class. The user can notice that the same inbuilt operator or function is showing different behaviour for objects of different classes. This process is known as operator overloading.\n",
    "For example: "
   ]
  },
  {
   "cell_type": "code",
   "execution_count": 2,
   "metadata": {
    "colab": {
     "base_uri": "https://localhost:8080/"
    },
    "id": "1Gm6uupeYB82",
    "outputId": "126174e7-483a-42c5-e67f-7e61dfbf0aad"
   },
   "outputs": [
    {
     "name": "stdout",
     "output_type": "stream",
     "text": [
      "(44, 34)\n"
     ]
    }
   ],
   "source": [
    "class complex_1:  \n",
    "    def __init__(self, X, Y):  \n",
    "        self.X = X  \n",
    "        self.Y = Y  \n",
    "   \n",
    "    # Now, we will add the two objects  \n",
    "    def __add__(self, U):  \n",
    "        return self.X + U.X, self.Y + U.Y  \n",
    "   \n",
    "Object_1 = complex_1(23, 12)  \n",
    "Object_2 = complex_1(21, 22)  \n",
    "Object_3 = Object_1 + Object_2  \n",
    "print (Object_3)  "
   ]
  },
  {
   "cell_type": "markdown",
   "metadata": {
    "id": "85aVhzEcVkAw"
   },
   "source": [
    "### Q7. When do you consider allowing operator overloading of your classes?\n",
    "\n",
    "### Ans7.\n",
    "Suppose that we have two objects which are a physical representation of a class (user-defined data type) and we have to add two objects with binary '+' operator it throws an error, because compiler don't know how to add two objects. So we define a method for an operator and that process is called operator overloading."
   ]
  },
  {
   "cell_type": "markdown",
   "metadata": {
    "id": "HPf7K-InVkkT"
   },
   "source": [
    "### Q8. What is the most popular form of operator overloading?\n",
    "\n",
    "### Ans8.\n",
    "A very popular and convenient example is the Addition (+) operator.  the '+' operator operates on two numbers and the same operator operates on two strings. It performs “Addition” on numbers whereas it performs “Concatenation” on strings.\n"
   ]
  },
  {
   "cell_type": "markdown",
   "metadata": {
    "id": "m4kWvoQyVnUg"
   },
   "source": [
    "### Q9. What are the two most important concepts to grasp in order to comprehend Python OOP code?\n",
    "\n",
    "### Ans9.\n",
    "The two most important concepts to grasp in order to comprehend Python OOP code are polymorphism and inheritence."
   ]
  },
  {
   "cell_type": "code",
   "execution_count": 3,
   "metadata": {
    "colab": {
     "base_uri": "https://localhost:8080/"
    },
    "id": "JMeWeLimVQr3",
    "outputId": "75f82364-1b8f-43ce-a845-2b2834c8cbd1"
   },
   "outputs": [
    {
     "name": "stdout",
     "output_type": "stream",
     "text": [
      "this is a msg to ineruon\n",
      "this is a msg to xyz\n"
     ]
    }
   ],
   "source": [
    "#polymorphism example :\n",
    "class ineuron:\n",
    "    def msg(self):\n",
    "        print(\"this is a msg to ineruon\")\n",
    "          \n",
    "class xyz:  \n",
    "    def msg(self):\n",
    "        print(\"this is a msg to xyz\")     \n",
    "\n",
    "def test(notes):\n",
    "    notes.msg()\n",
    "\n",
    "i = ineuron()\n",
    "x = xyz()\n",
    "\n",
    "test(i) # function giving some result\n",
    "test(x) # same function giving some other result"
   ]
  },
  {
   "cell_type": "code",
   "execution_count": 4,
   "metadata": {
    "colab": {
     "base_uri": "https://localhost:8080/"
    },
    "id": "p9alfNm3Zlac",
    "outputId": "68ae1ed2-1fe7-4a7f-94f7-925fe41d3650"
   },
   "outputs": [
    {
     "name": "stdout",
     "output_type": "stream",
     "text": [
      "iNeuron Company was established in 2018\n"
     ]
    }
   ],
   "source": [
    "#inheritence example:\n",
    "class Ineuron:\n",
    "    company_website = 'https://ineuron.ai/'\n",
    "    name = 'iNeuron'\n",
    " \n",
    "    def contact_details(self):\n",
    "        print('Contact us at ', self.company_website)\n",
    "\n",
    "class Datascience(Ineuron):\n",
    "    def __init__(self):\n",
    "        self.year_of_establishment= 2018\n",
    " \n",
    "    def est_details(self):\n",
    "        print('{0} Company was established in {1}'\n",
    "              .format(self.name,self.year_of_establishment))\n",
    " \n",
    "ds = Datascience()\n",
    "ds.est_details()"
   ]
  }
 ],
 "metadata": {
  "colab": {
   "name": "Ineuron_Python_Advance_Assignment2.ipynb",
   "provenance": []
  },
  "kernelspec": {
   "display_name": "Python 3 (ipykernel)",
   "language": "python",
   "name": "python3"
  },
  "language_info": {
   "codemirror_mode": {
    "name": "ipython",
    "version": 3
   },
   "file_extension": ".py",
   "mimetype": "text/x-python",
   "name": "python",
   "nbconvert_exporter": "python",
   "pygments_lexer": "ipython3",
   "version": "3.9.13"
  }
 },
 "nbformat": 4,
 "nbformat_minor": 1
}
