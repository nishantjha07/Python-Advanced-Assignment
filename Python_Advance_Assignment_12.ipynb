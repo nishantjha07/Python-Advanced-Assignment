{
 "cells": [
  {
   "cell_type": "markdown",
   "metadata": {
    "id": "2e8wCiRw_5v5"
   },
   "source": [
    "### Q1. Does assigning a value to a string&#39;s indexed character violate Python&#39;s string immutability?\n",
    "\n",
    "### Ans1.\n",
    "In Python, strings are made immutable so that programmers cannot alter the contents of the object (even by mistake). This avoids unnecessary bugs. we can assign a value to a string's indexed character it doesn't violate Python's string immutability because for ding that we first have to split the string word into characters which leaves us with simple character string we can replace it easily with some other character but still it will be string even if the replaced value will be an interger or floting number or anything."
   ]
  },
  {
   "cell_type": "code",
   "execution_count": 1,
   "metadata": {
    "colab": {
     "base_uri": "https://localhost:8080/"
    },
    "id": "yFMgifR-CUOh",
    "outputId": "bbe02f48-ae74-4b08-e8be-1c15dc640e52"
   },
   "outputs": [
    {
     "name": "stdout",
     "output_type": "stream",
     "text": [
      "1s\n",
      "<class 'str'>\n"
     ]
    }
   ],
   "source": [
    "#Example:\n",
    "str = \"as\"\n",
    "print(str.replace(\"a\",\"1\"))\n",
    "print(type(str.replace(\"a\",\"1\")))"
   ]
  },
  {
   "cell_type": "markdown",
   "metadata": {
    "id": "1i5gNSq__5oE"
   },
   "source": [
    "### Q2. Does using the += operator to concatenate strings violate Python&#39;s string immutability? Why or why not?\n",
    "\n",
    "### Ans2.\n",
    "If you want to concatenate a number, such as an integer int or a floating point float , with a string, convert the number to a string with str() and then use the + operator or += operator. NO, same explanation as above bcause it will still be in string type."
   ]
  },
  {
   "cell_type": "markdown",
   "metadata": {
    "id": "KjMNNtuK_5kM"
   },
   "source": [
    "### Q3. In Python, how many different ways are there to index a character?\n",
    "\n",
    "### Ans3.\n",
    "Each of a string's characters corresponds to an index number and each character can be accessed using their index number. We can access characters in a String in Two ways : \n",
    "- Accessing Characters by Positive Index Number. \n",
    "- Accessing Characters by Negative Index Number."
   ]
  },
  {
   "cell_type": "markdown",
   "metadata": {
    "id": "xAyybVyl_5hx"
   },
   "source": [
    "### Q4. What is the relationship between indexing and slicing?\n",
    "\n",
    "### Ans4.\n",
    "“Indexing” means referring to an element of an iterable by its position within the iterable. “Slicing” means getting a subset of elements from an iterable based on their indices."
   ]
  },
  {
   "cell_type": "markdown",
   "metadata": {
    "id": "ITRegSpT_5fJ"
   },
   "source": [
    "### Q5. What is an indexed character&#39;s exact data type? What is the data form of a slicing-generated substring?\n",
    "\n",
    "### Ans5.\n",
    "The type in slicing remains the same type in which it is entered. But in indexing the tye may differ. An examle is shown below to explain this."
   ]
  },
  {
   "cell_type": "code",
   "execution_count": 2,
   "metadata": {
    "colab": {
     "base_uri": "https://localhost:8080/"
    },
    "id": "CLqno3-9FKy9",
    "outputId": "92e61830-7dbd-4714-c65c-ea987cd0a707"
   },
   "outputs": [
    {
     "name": "stdout",
     "output_type": "stream",
     "text": [
      "<class 'int'>\n"
     ]
    }
   ],
   "source": [
    "l = [1,2,3,4,5]\n",
    "print(type(l[2]))"
   ]
  },
  {
   "cell_type": "code",
   "execution_count": 3,
   "metadata": {
    "colab": {
     "base_uri": "https://localhost:8080/"
    },
    "id": "ZfbYtPG5EPuJ",
    "outputId": "1b2f89aa-362e-4aca-d7ab-250193fb88eb"
   },
   "outputs": [
    {
     "name": "stdout",
     "output_type": "stream",
     "text": [
      "<class 'list'>\n",
      "[1]\n",
      "<class 'list'>\n"
     ]
    }
   ],
   "source": [
    "l = [1,2,3,4,5]\n",
    "print(type(l))\n",
    "print(l[:1])\n",
    "print(type(l[:1]))"
   ]
  },
  {
   "cell_type": "markdown",
   "metadata": {
    "id": "G-aZtmY9_5c0"
   },
   "source": [
    "### Q6. What is the relationship between string and character &quot;types&quot; in Python?\n",
    "\n",
    "### Ans6. \n",
    "In Python, Strings are arrays of bytes representing Unicode characters. However, Python does not have a character data type, a single character is simply a string with a length of 1. Square brackets can be used to access elements of the string."
   ]
  },
  {
   "cell_type": "markdown",
   "metadata": {
    "id": "qgwXUyck_5Ma"
   },
   "source": [
    "### Q7. Identify at least two operators and one method that allow you to combine one or more smaller strings to create a larger string.\n",
    "\n",
    "### Ans7.\n",
    "\n",
    "operators are +  and * \n",
    "\n",
    "method: format() or join()"
   ]
  },
  {
   "cell_type": "markdown",
   "metadata": {
    "id": "pJU1asd9_5JY"
   },
   "source": [
    "### Q8. What is the benefit of first checking the target string with in or not in before using the index method to find a substring?\n",
    "\n",
    "### Ans8.\n",
    "set() helps us in knowing if there are't any repeatable words or items in the string and returns us a list sor set with only  single entry of a particular item.\n"
   ]
  },
  {
   "cell_type": "markdown",
   "metadata": {
    "id": "PVKlRFBc_5F7"
   },
   "source": [
    "### Q9. Which operators and built-in string methods produce simple Boolean (true/false) results?\n",
    "\n",
    "### Ans9. \n",
    "\n",
    "operators : = , < , >\n",
    "\n",
    "methods: bool()"
   ]
  }
 ],
 "metadata": {
  "colab": {
   "collapsed_sections": [],
   "name": "Ineuron_Python_Advance_Assignment12.ipynb",
   "provenance": []
  },
  "kernelspec": {
   "display_name": "Python 3 (ipykernel)",
   "language": "python",
   "name": "python3"
  },
  "language_info": {
   "codemirror_mode": {
    "name": "ipython",
    "version": 3
   },
   "file_extension": ".py",
   "mimetype": "text/x-python",
   "name": "python",
   "nbconvert_exporter": "python",
   "pygments_lexer": "ipython3",
   "version": "3.9.13"
  }
 },
 "nbformat": 4,
 "nbformat_minor": 1
}
