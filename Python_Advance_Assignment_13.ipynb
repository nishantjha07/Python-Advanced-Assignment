{
 "cells": [
  {
   "cell_type": "markdown",
   "metadata": {
    "id": "6K8KMwuyPxyk"
   },
   "source": [
    "### Q1. Can you create a programme or function that employs both positive and negative indexing? Is there any repercussion if you do so?\n",
    "\n",
    "### Ans1.\n",
    "Below is a basic program showing positive and negative indexing. NO. "
   ]
  },
  {
   "cell_type": "code",
   "execution_count": 2,
   "metadata": {
    "colab": {
     "base_uri": "https://localhost:8080/"
    },
    "id": "xEjh-ldASVLg",
    "outputId": "33448e05-26ba-4a93-eff8-0d600a4bb50c"
   },
   "outputs": [
    {
     "name": "stdout",
     "output_type": "stream",
     "text": [
      "n\n",
      "r\n"
     ]
    }
   ],
   "source": [
    "def nishant():\n",
    "\n",
    "  greetings = \"nishant kumar\"\n",
    "  print(greetings[0]) \n",
    "  print(greetings[-1])\n",
    "\n",
    "nishant()"
   ]
  },
  {
   "cell_type": "markdown",
   "metadata": {
    "id": "PhN-WpwZPxvG"
   },
   "source": [
    "### Q2. What is the most effective way of starting with 1,000 elements in a Python list? Assume that all elements should be set to the same value.\n",
    "\n",
    "### Ans2.\n",
    "list comprehension and * operator are fastest followed by while and for loop for loop in list."
   ]
  },
  {
   "cell_type": "code",
   "execution_count": 3,
   "metadata": {
    "colab": {
     "base_uri": "https://localhost:8080/"
    },
    "id": "jvVOVOs5UWB_",
    "outputId": "5127249e-52da-4f35-c705-6f9c7bed948d"
   },
   "outputs": [
    {
     "name": "stdout",
     "output_type": "stream",
     "text": [
      "Average time taken by for loop: 0.004675860404968262\n",
      "Average time taken by while loop: 0.008333938121795654\n",
      "Average time taken by list comprehensions: 0.0014389753341674805\n",
      "Average time taken by * operator: 0.00012998342514038087\n"
     ]
    }
   ],
   "source": [
    "# import time module to calculate times\n",
    "import time\n",
    "forLoopTime = []\n",
    "whileLoopTime = []\n",
    "listComprehensionTime = []\n",
    "starOperatorTime = []\n",
    "# repeat the process for 500 times and calculate average of times taken.\n",
    "for k in range(500):\n",
    "\t# start time\n",
    "\tstart = time.time()\n",
    "\t# declare empty list\n",
    "\ta = []\n",
    "\t# run a for loop for 10000 times\n",
    "\tfor i in range(10000):\n",
    "\t\ta.append(0)\n",
    "\t# stop time\n",
    "\tstop = time.time()\n",
    "\tforLoopTime.append(stop-start)\n",
    "\t# start time\n",
    "\tstart = time.time()\n",
    "\t# declare an empty list\n",
    "\ta = []\n",
    "\ti = 0\n",
    "\t# run a for loop 10000 times\n",
    "\twhile(i<10000):\n",
    "\t\ta.append(0)\n",
    "\t\ti+= 1\n",
    "\tstop = time.time()\n",
    "\twhileLoopTime.append(stop-start)\n",
    "\n",
    "\tstart = time.time()\n",
    "\t# list comprehension to initialize list\n",
    "\ta = [0 for i in range(10000)]\n",
    "\tstop = time.time()\n",
    "\tlistComprehensionTime.append(stop-start)\n",
    "\n",
    "\tstart = time.time()\n",
    "\t# using the * operator\n",
    "\ta = [0]*10000\n",
    "\tstop = time.time()\n",
    "\tstarOperatorTime.append(stop-start)\n",
    "\n",
    "print(\"Average time taken by for loop: \" + str(sum(forLoopTime)/100))\n",
    "print(\"Average time taken by while loop: \" + str(sum(whileLoopTime)/100))\n",
    "print(\"Average time taken by list comprehensions: \" + str(sum(listComprehensionTime)/100))#runnerup\n",
    "print(\"Average time taken by * operator: \" + str(sum(starOperatorTime)/100))\t#fastest\n"
   ]
  },
  {
   "cell_type": "markdown",
   "metadata": {
    "id": "Mo8cIqgDPxsS"
   },
   "source": [
    "### Q3. How do you slice a list to get any other part while missing the rest? (For example, suppose you want to make a new list with the elements first, third, fifth, seventh, and so on.)\n",
    "\n",
    "### Ans3."
   ]
  },
  {
   "cell_type": "code",
   "execution_count": 4,
   "metadata": {
    "colab": {
     "base_uri": "https://localhost:8080/"
    },
    "id": "SleaFIEyXiaf",
    "outputId": "5e3a9508-9cf6-4c00-f60e-5c4408b58ad3"
   },
   "outputs": [
    {
     "name": "stdout",
     "output_type": "stream",
     "text": [
      "[1, 3, 5, 7, 9, 11]\n"
     ]
    }
   ],
   "source": [
    "b = [1,2,3,4,5,6,7,8,9,10,11,12]\n",
    "print(b[::2])"
   ]
  },
  {
   "cell_type": "markdown",
   "metadata": {
    "id": "XpPHU-qgPxpi"
   },
   "source": [
    "### Q4. Explain the distinctions between indexing and slicing.\n",
    "\n",
    "### Ans4.\n",
    "“Indexing” means referring to an element of an iterable by its position within the iterable. “Slicing” means getting a subset of elements from an iterable based on their indices."
   ]
  },
  {
   "cell_type": "markdown",
   "metadata": {
    "id": "g_oJhzAEPxnl"
   },
   "source": [
    "### Q5. What happens if one of the slicing expression&#39;s indexes is out of range?\n",
    "\n",
    "### Ans5: \n",
    "empty list comes"
   ]
  },
  {
   "cell_type": "code",
   "execution_count": 5,
   "metadata": {
    "colab": {
     "base_uri": "https://localhost:8080/"
    },
    "id": "By8v0etcZqET",
    "outputId": "1dbf4cbf-dbaf-40cf-f27c-03c657d25a74"
   },
   "outputs": [
    {
     "name": "stdout",
     "output_type": "stream",
     "text": [
      "[]\n"
     ]
    }
   ],
   "source": [
    "b = [1,2,3,4,5,6,7,8,9,10,11,12]\n",
    "print(b[34:44:1])"
   ]
  },
  {
   "cell_type": "markdown",
   "metadata": {
    "id": "iQFDPy2XQSIc"
   },
   "source": [
    "### Q6. If you pass a list to a function, and if you want the function to be able to change the values of the list—so that the list is different after the function returns—what action should you avoid?\n",
    "\n",
    "### Ans6. \n",
    "the list will change list are mutable but we can also prevent that by creating a deepcopy of it before.\n"
   ]
  },
  {
   "cell_type": "markdown",
   "metadata": {
    "id": "hAz8GX5DQR8_"
   },
   "source": [
    "### Q7. What is the concept of an unbalanced matrix?\n",
    "\n",
    "### Ans7.\n",
    "A matrix is balanced if all cells in the matrix are balanced and a cell of the matrix is balanced if the number of cells in that matrix that are adjacent to that cell is strictly greater than the value written in this cell. .\n",
    "\n",
    "Input: N = 3, M = 3\n",
    "\n",
    "mat[][] = {{1, 2, 3}, \n",
    "\n",
    "{4, 5, 6}, \n",
    "\n",
    "{7, 8, 9}} \n",
    "\n",
    "Output: Unbalanced \n",
    "\n",
    "Explanation: Each cell of the given grid is not stable, so the overall grid is unbalanced."
   ]
  },
  {
   "cell_type": "markdown",
   "metadata": {
    "id": "rjdWsyi8QR23"
   },
   "source": [
    "### Q8. Why is it necessary to use either list comprehension or a loop to create arbitrarily large matrices?\n",
    "\n",
    "### Ans8.\n",
    "list comprehension or a loop specifically list comprehension can simplify our code, but if you put too much logic inside, they will instead become harder to read and understand. loop specifically are also fast as we have seen in previous questions using time."
   ]
  }
 ],
 "metadata": {
  "colab": {
   "name": "Ineuron_Python_Advance_Assignment13.ipynb",
   "provenance": []
  },
  "kernelspec": {
   "display_name": "Python 3 (ipykernel)",
   "language": "python",
   "name": "python3"
  },
  "language_info": {
   "codemirror_mode": {
    "name": "ipython",
    "version": 3
   },
   "file_extension": ".py",
   "mimetype": "text/x-python",
   "name": "python",
   "nbconvert_exporter": "python",
   "pygments_lexer": "ipython3",
   "version": "3.9.13"
  }
 },
 "nbformat": 4,
 "nbformat_minor": 1
}
