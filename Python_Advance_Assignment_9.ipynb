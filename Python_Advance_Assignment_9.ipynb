{
 "cells": [
  {
   "cell_type": "markdown",
   "metadata": {
    "id": "t29rA0T0gtr-"
   },
   "source": [
    "### Q1. In Python 3.X, what are the names and functions of string object types?\n",
    "\n",
    "### Ans1. \n",
    "There are many string functions some of them are mentioned below\n",
    "isascii(), islower(), isdigit(), upper(), lower(), lstrip(). rstrip()\n",
    "\n",
    "basically after definign the string we can use (dot) and them tab in jupyter notebook or ctrl+space in colab to access these we don't need to remember them.\n",
    "\n",
    "I refer this link for help with strings functions https://www.w3schools.com/python/python_ref_string.asp"
   ]
  },
  {
   "cell_type": "markdown",
   "metadata": {
    "id": "dkT2RBajgtpn"
   },
   "source": [
    "### Q2. How do the string forms in Python 3.X vary in terms of operations?\n",
    "\n",
    "### Ans2. \n",
    "The type can be used with format codes just add a % symbol before them :\n",
    "\n",
    "- ‘d’ for integers\n",
    "- ‘f’ for floating-point numbers\n",
    "- ‘b’ for binary numbers\n",
    "- ‘o’ for octal numbers\n",
    "- ‘x’ for octal hexadecimal numbers\n",
    "- ‘s’ for string\n",
    "- ‘e’ for floating-point in an exponent format"
   ]
  },
  {
   "cell_type": "markdown",
   "metadata": {
    "id": "uutnkNjfgtnQ"
   },
   "source": [
    "### Q3. In 3.X, how do you put non-ASCII Unicode characters in a string?\n",
    "\n",
    "### Ans3.  \n",
    "In order to use non-ASCII characters, Python requires explicit encoding and decoding of strings into Unicode. we can check using the ascii value using ord()"
   ]
  },
  {
   "cell_type": "code",
   "execution_count": 1,
   "metadata": {
    "colab": {
     "base_uri": "https://localhost:8080/"
    },
    "id": "DIiaygR2nRXE",
    "outputId": "6aac96e4-d564-4839-8f2a-d434a6c15138"
   },
   "outputs": [
    {
     "data": {
      "text/plain": [
       "97"
      ]
     },
     "execution_count": 1,
     "metadata": {},
     "output_type": "execute_result"
    }
   ],
   "source": [
    "ord(\"a\")"
   ]
  },
  {
   "cell_type": "code",
   "execution_count": 2,
   "metadata": {
    "colab": {
     "base_uri": "https://localhost:8080/"
    },
    "id": "LbnfIr8Pnh6x",
    "outputId": "ec446457-7e5f-4e42-fac4-ffffafbb23a7"
   },
   "outputs": [
    {
     "data": {
      "text/plain": [
       "33"
      ]
     },
     "execution_count": 2,
     "metadata": {},
     "output_type": "execute_result"
    }
   ],
   "source": [
    "ord(\"!\")\n",
    "#reference : https://melaniewalsh.github.io/Intro-Cultural-Analytics/02-Python/07-Files-Character-Encoding.html"
   ]
  },
  {
   "cell_type": "markdown",
   "metadata": {
    "id": "Ut9RdKWKgtjD"
   },
   "source": [
    "### Q4. In Python 3.X, what are the key differences between text-mode and binary-mode files?\n",
    "\n",
    "### Ans4. \n",
    "The major difference between these two is that a text file contains textual information in the form of alphabets, digits and special characters or symbols. On the other hand, a binary file contains bytes or a compiled version of a text file.\n",
    "\n"
   ]
  },
  {
   "cell_type": "markdown",
   "metadata": {
    "id": "MUcdvDyEgtfj"
   },
   "source": [
    "### Q5. How can you interpret a Unicode text file containing text encoded in a different encoding than your platform's default?\n",
    "\n",
    "### Ans5. \n",
    "We can do it by hit and trieal trying different types of ending like utf-8, utf-16 etc."
   ]
  },
  {
   "cell_type": "markdown",
   "metadata": {
    "id": "eGc6uw6uhYFa"
   },
   "source": [
    "### Q6. What is the best way to make a Unicode text file in a particular encoding format?\n",
    "\n",
    "### Ans6."
   ]
  },
  {
   "cell_type": "code",
   "execution_count": 5,
   "metadata": {
    "colab": {
     "base_uri": "https://localhost:8080/"
    },
    "id": "ymf9b4rfmqxn",
    "outputId": "0f8ab726-35f9-45ff-a8f5-50772855c0f9"
   },
   "outputs": [],
   "source": [
    "# Specify the encoding format\n",
    "encoding_format = 'utf-8'  # or 'utf-16', 'utf-32', etc.\n",
    "\n",
    "# Text to be written to the file\n",
    "text = \"Hello, World!\"\n",
    "\n",
    "# Write the text to a file with the specified encoding\n",
    "with open('output.txt', 'w', encoding=encoding_format) as file:\n",
    "    file.write(text)\n"
   ]
  },
  {
   "cell_type": "markdown",
   "metadata": {
    "id": "3EU3YbcVhYB0"
   },
   "source": [
    "### Q7. What qualifies ASCII text as a form of Unicode text?\n",
    "\n",
    "### Ans7.\n",
    "The first 128 Unicode code points represent the ASCII characters, which means that any ASCII text is also a UTF-8 text. As long as it contains no code points in the reserved range U+D800–U+DFFF, a UCS-2 text is valid UTF-16 text.\n",
    "\n",
    "Encoding formats: UTF-8; UTF-16; GB18030; \n",
    "\n",
    "Standard: Unicode Standard\n",
    "\n",
    "Alias(es): Universal Coded Character Set (UCS)"
   ]
  }
 ],
 "metadata": {
  "colab": {
   "name": "Ineuron_Python_Advance_Assignment09.ipynb",
   "provenance": []
  },
  "kernelspec": {
   "display_name": "Python 3 (ipykernel)",
   "language": "python",
   "name": "python3"
  },
  "language_info": {
   "codemirror_mode": {
    "name": "ipython",
    "version": 3
   },
   "file_extension": ".py",
   "mimetype": "text/x-python",
   "name": "python",
   "nbconvert_exporter": "python",
   "pygments_lexer": "ipython3",
   "version": "3.9.13"
  }
 },
 "nbformat": 4,
 "nbformat_minor": 1
}
